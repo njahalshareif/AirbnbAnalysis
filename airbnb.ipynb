{
 "cells": [
  {
   "cell_type": "markdown",
   "metadata": {},
   "source": [
    "<center> <h1> Exploratory Data Analysis (EDA) </h1> </center>"
   ]
  },
  {
   "cell_type": "markdown",
   "metadata": {},
   "source": [
    "## About Airbnb"
   ]
  },
  {
   "cell_type": "markdown",
   "metadata": {},
   "source": [
    "Airbnb is an online marketplace that connects people looking to rent out their homes with those seeking accommodations. Founded in 2008, Airbnb offers a platform for users to list, discover, and book unique accommodations around the world, including apartments, houses, villas, and even treehouses and castles. The platform provides hosts with a way to earn extra income by renting out their space, while travelers benefit from a wide range of lodging options that often provide a more personalized and affordable alternative to traditional hotels. With millions of listings in over 220 countries and regions, Airbnb has become one of the largest and most popular accommodation booking platforms globally."
   ]
  },
  {
   "cell_type": "markdown",
   "metadata": {},
   "source": [
    "## About Dataset"
   ]
  },
  {
   "cell_type": "markdown",
   "metadata": {},
   "source": [
    "This dataset provides details on Airbnb listings and their hosts. It includes information about the listings themselves, such as property type, room type, amenities offered, guest capacity, pricing, and overall rating with specific scores for cleanliness, accuracy, location, and more. Host details include their response rate, acceptance rate, Superhost status, and how many listings they offer on Airbnb. The dataset also includes location data for each listing, specifying the neighborhood, district, city, and geographic coordinates."
   ]
  },
  {
   "cell_type": "markdown",
   "metadata": {},
   "source": [
    "# 1. Data Loading and Initial Exploration"
   ]
  },
  {
   "cell_type": "markdown",
   "metadata": {},
   "source": [
    "- Import Pandas library"
   ]
  },
  {
   "cell_type": "code",
   "execution_count": 163,
   "metadata": {},
   "outputs": [],
   "source": [
    "import pandas as pd"
   ]
  },
  {
   "cell_type": "markdown",
   "metadata": {},
   "source": [
    "- Load the dataset"
   ]
  },
  {
   "cell_type": "code",
   "execution_count": 164,
   "metadata": {},
   "outputs": [
    {
     "data": {
      "text/html": [
       "<div>\n",
       "<style scoped>\n",
       "    .dataframe tbody tr th:only-of-type {\n",
       "        vertical-align: middle;\n",
       "    }\n",
       "\n",
       "    .dataframe tbody tr th {\n",
       "        vertical-align: top;\n",
       "    }\n",
       "\n",
       "    .dataframe thead th {\n",
       "        text-align: right;\n",
       "    }\n",
       "</style>\n",
       "<table border=\"1\" class=\"dataframe\">\n",
       "  <thead>\n",
       "    <tr style=\"text-align: right;\">\n",
       "      <th></th>\n",
       "      <th>listing_id</th>\n",
       "      <th>name</th>\n",
       "      <th>host_id</th>\n",
       "      <th>host_since</th>\n",
       "      <th>host_location</th>\n",
       "      <th>host_response_time</th>\n",
       "      <th>host_response_rate</th>\n",
       "      <th>host_acceptance_rate</th>\n",
       "      <th>host_is_superhost</th>\n",
       "      <th>host_total_listings_count</th>\n",
       "      <th>...</th>\n",
       "      <th>minimum_nights</th>\n",
       "      <th>maximum_nights</th>\n",
       "      <th>review_scores_rating</th>\n",
       "      <th>review_scores_accuracy</th>\n",
       "      <th>review_scores_cleanliness</th>\n",
       "      <th>review_scores_checkin</th>\n",
       "      <th>review_scores_communication</th>\n",
       "      <th>review_scores_location</th>\n",
       "      <th>review_scores_value</th>\n",
       "      <th>instant_bookable</th>\n",
       "    </tr>\n",
       "  </thead>\n",
       "  <tbody>\n",
       "    <tr>\n",
       "      <th>0</th>\n",
       "      <td>281420</td>\n",
       "      <td>Beautiful Flat in le Village Montmartre, Paris</td>\n",
       "      <td>1466919</td>\n",
       "      <td>2011-12-03</td>\n",
       "      <td>Paris, Ile-de-France, France</td>\n",
       "      <td>NaN</td>\n",
       "      <td>NaN</td>\n",
       "      <td>NaN</td>\n",
       "      <td>f</td>\n",
       "      <td>1.0</td>\n",
       "      <td>...</td>\n",
       "      <td>2</td>\n",
       "      <td>1125</td>\n",
       "      <td>100.0</td>\n",
       "      <td>10.0</td>\n",
       "      <td>10.0</td>\n",
       "      <td>10.0</td>\n",
       "      <td>10.0</td>\n",
       "      <td>10.0</td>\n",
       "      <td>10.0</td>\n",
       "      <td>f</td>\n",
       "    </tr>\n",
       "    <tr>\n",
       "      <th>1</th>\n",
       "      <td>3705183</td>\n",
       "      <td>39 mÃÂ² Paris (Sacre CÃâur)</td>\n",
       "      <td>10328771</td>\n",
       "      <td>2013-11-29</td>\n",
       "      <td>Paris, Ile-de-France, France</td>\n",
       "      <td>NaN</td>\n",
       "      <td>NaN</td>\n",
       "      <td>NaN</td>\n",
       "      <td>f</td>\n",
       "      <td>1.0</td>\n",
       "      <td>...</td>\n",
       "      <td>2</td>\n",
       "      <td>1125</td>\n",
       "      <td>100.0</td>\n",
       "      <td>10.0</td>\n",
       "      <td>10.0</td>\n",
       "      <td>10.0</td>\n",
       "      <td>10.0</td>\n",
       "      <td>10.0</td>\n",
       "      <td>10.0</td>\n",
       "      <td>f</td>\n",
       "    </tr>\n",
       "    <tr>\n",
       "      <th>2</th>\n",
       "      <td>4082273</td>\n",
       "      <td>Lovely apartment with Terrace, 60m2</td>\n",
       "      <td>19252768</td>\n",
       "      <td>2014-07-31</td>\n",
       "      <td>Paris, Ile-de-France, France</td>\n",
       "      <td>NaN</td>\n",
       "      <td>NaN</td>\n",
       "      <td>NaN</td>\n",
       "      <td>f</td>\n",
       "      <td>1.0</td>\n",
       "      <td>...</td>\n",
       "      <td>2</td>\n",
       "      <td>1125</td>\n",
       "      <td>100.0</td>\n",
       "      <td>10.0</td>\n",
       "      <td>10.0</td>\n",
       "      <td>10.0</td>\n",
       "      <td>10.0</td>\n",
       "      <td>10.0</td>\n",
       "      <td>10.0</td>\n",
       "      <td>f</td>\n",
       "    </tr>\n",
       "    <tr>\n",
       "      <th>3</th>\n",
       "      <td>4797344</td>\n",
       "      <td>Cosy studio (close to Eiffel tower)</td>\n",
       "      <td>10668311</td>\n",
       "      <td>2013-12-17</td>\n",
       "      <td>Paris, Ile-de-France, France</td>\n",
       "      <td>NaN</td>\n",
       "      <td>NaN</td>\n",
       "      <td>NaN</td>\n",
       "      <td>f</td>\n",
       "      <td>1.0</td>\n",
       "      <td>...</td>\n",
       "      <td>2</td>\n",
       "      <td>1125</td>\n",
       "      <td>100.0</td>\n",
       "      <td>10.0</td>\n",
       "      <td>10.0</td>\n",
       "      <td>10.0</td>\n",
       "      <td>10.0</td>\n",
       "      <td>10.0</td>\n",
       "      <td>10.0</td>\n",
       "      <td>f</td>\n",
       "    </tr>\n",
       "    <tr>\n",
       "      <th>4</th>\n",
       "      <td>4823489</td>\n",
       "      <td>Close to Eiffel Tower - Beautiful flat : 2 rooms</td>\n",
       "      <td>24837558</td>\n",
       "      <td>2014-12-14</td>\n",
       "      <td>Paris, Ile-de-France, France</td>\n",
       "      <td>NaN</td>\n",
       "      <td>NaN</td>\n",
       "      <td>NaN</td>\n",
       "      <td>f</td>\n",
       "      <td>1.0</td>\n",
       "      <td>...</td>\n",
       "      <td>2</td>\n",
       "      <td>1125</td>\n",
       "      <td>100.0</td>\n",
       "      <td>10.0</td>\n",
       "      <td>10.0</td>\n",
       "      <td>10.0</td>\n",
       "      <td>10.0</td>\n",
       "      <td>10.0</td>\n",
       "      <td>10.0</td>\n",
       "      <td>f</td>\n",
       "    </tr>\n",
       "  </tbody>\n",
       "</table>\n",
       "<p>5 rows × 33 columns</p>\n",
       "</div>"
      ],
      "text/plain": [
       "   listing_id                                              name   host_id  \\\n",
       "0      281420    Beautiful Flat in le Village Montmartre, Paris   1466919   \n",
       "1     3705183                   39 mÃÂ² Paris (Sacre CÃ\n",
       "âur)  10328771   \n",
       "2     4082273               Lovely apartment with Terrace, 60m2  19252768   \n",
       "3     4797344               Cosy studio (close to Eiffel tower)  10668311   \n",
       "4     4823489  Close to Eiffel Tower - Beautiful flat : 2 rooms  24837558   \n",
       "\n",
       "   host_since                 host_location host_response_time  \\\n",
       "0  2011-12-03  Paris, Ile-de-France, France                NaN   \n",
       "1  2013-11-29  Paris, Ile-de-France, France                NaN   \n",
       "2  2014-07-31  Paris, Ile-de-France, France                NaN   \n",
       "3  2013-12-17  Paris, Ile-de-France, France                NaN   \n",
       "4  2014-12-14  Paris, Ile-de-France, France                NaN   \n",
       "\n",
       "   host_response_rate  host_acceptance_rate host_is_superhost  \\\n",
       "0                 NaN                   NaN                 f   \n",
       "1                 NaN                   NaN                 f   \n",
       "2                 NaN                   NaN                 f   \n",
       "3                 NaN                   NaN                 f   \n",
       "4                 NaN                   NaN                 f   \n",
       "\n",
       "   host_total_listings_count  ... minimum_nights maximum_nights  \\\n",
       "0                        1.0  ...              2           1125   \n",
       "1                        1.0  ...              2           1125   \n",
       "2                        1.0  ...              2           1125   \n",
       "3                        1.0  ...              2           1125   \n",
       "4                        1.0  ...              2           1125   \n",
       "\n",
       "  review_scores_rating review_scores_accuracy review_scores_cleanliness  \\\n",
       "0                100.0                   10.0                      10.0   \n",
       "1                100.0                   10.0                      10.0   \n",
       "2                100.0                   10.0                      10.0   \n",
       "3                100.0                   10.0                      10.0   \n",
       "4                100.0                   10.0                      10.0   \n",
       "\n",
       "   review_scores_checkin  review_scores_communication review_scores_location  \\\n",
       "0                   10.0                         10.0                   10.0   \n",
       "1                   10.0                         10.0                   10.0   \n",
       "2                   10.0                         10.0                   10.0   \n",
       "3                   10.0                         10.0                   10.0   \n",
       "4                   10.0                         10.0                   10.0   \n",
       "\n",
       "  review_scores_value  instant_bookable  \n",
       "0                10.0                 f  \n",
       "1                10.0                 f  \n",
       "2                10.0                 f  \n",
       "3                10.0                 f  \n",
       "4                10.0                 f  \n",
       "\n",
       "[5 rows x 33 columns]"
      ]
     },
     "execution_count": 164,
     "metadata": {},
     "output_type": "execute_result"
    }
   ],
   "source": [
    "df = pd.read_csv(\"Listings.csv\", encoding='latin-1', low_memory=False)\n",
    "df.head()"
   ]
  },
  {
   "cell_type": "markdown",
   "metadata": {},
   "source": [
    "- Display the number of rows & columns"
   ]
  },
  {
   "cell_type": "code",
   "execution_count": 165,
   "metadata": {},
   "outputs": [
    {
     "data": {
      "text/plain": [
       "(279712, 33)"
      ]
     },
     "execution_count": 165,
     "metadata": {},
     "output_type": "execute_result"
    }
   ],
   "source": [
    "df.shape"
   ]
  },
  {
   "cell_type": "markdown",
   "metadata": {},
   "source": [
    "- Provide a brief summary of the dataset structure including data types, non-null counts, and memory usage."
   ]
  },
  {
   "cell_type": "code",
   "execution_count": 166,
   "metadata": {},
   "outputs": [
    {
     "name": "stdout",
     "output_type": "stream",
     "text": [
      "<class 'pandas.core.frame.DataFrame'>\n",
      "RangeIndex: 279712 entries, 0 to 279711\n",
      "Data columns (total 33 columns):\n",
      " #   Column                       Non-Null Count   Dtype  \n",
      "---  ------                       --------------   -----  \n",
      " 0   listing_id                   279712 non-null  int64  \n",
      " 1   name                         279537 non-null  object \n",
      " 2   host_id                      279712 non-null  int64  \n",
      " 3   host_since                   279547 non-null  object \n",
      " 4   host_location                278872 non-null  object \n",
      " 5   host_response_time           150930 non-null  object \n",
      " 6   host_response_rate           150930 non-null  float64\n",
      " 7   host_acceptance_rate         166625 non-null  float64\n",
      " 8   host_is_superhost            279547 non-null  object \n",
      " 9   host_total_listings_count    279547 non-null  float64\n",
      " 10  host_has_profile_pic         279547 non-null  object \n",
      " 11  host_identity_verified       279547 non-null  object \n",
      " 12  neighbourhood                279712 non-null  object \n",
      " 13  district                     37012 non-null   object \n",
      " 14  city                         279712 non-null  object \n",
      " 15  latitude                     279712 non-null  float64\n",
      " 16  longitude                    279712 non-null  float64\n",
      " 17  property_type                279712 non-null  object \n",
      " 18  room_type                    279712 non-null  object \n",
      " 19  accommodates                 279712 non-null  int64  \n",
      " 20  bedrooms                     250277 non-null  float64\n",
      " 21  amenities                    279712 non-null  object \n",
      " 22  price                        279712 non-null  int64  \n",
      " 23  minimum_nights               279712 non-null  int64  \n",
      " 24  maximum_nights               279712 non-null  int64  \n",
      " 25  review_scores_rating         188307 non-null  float64\n",
      " 26  review_scores_accuracy       187999 non-null  float64\n",
      " 27  review_scores_cleanliness    188047 non-null  float64\n",
      " 28  review_scores_checkin        187941 non-null  float64\n",
      " 29  review_scores_communication  188025 non-null  float64\n",
      " 30  review_scores_location       187937 non-null  float64\n",
      " 31  review_scores_value          187927 non-null  float64\n",
      " 32  instant_bookable             279712 non-null  object \n",
      "dtypes: float64(13), int64(6), object(14)\n",
      "memory usage: 70.4+ MB\n"
     ]
    }
   ],
   "source": [
    "df.info()"
   ]
  },
  {
   "cell_type": "markdown",
   "metadata": {},
   "source": [
    "- `listing_id` Listing ID\n",
    "\n",
    "- `name` Listing Name\n",
    "\n",
    "- `host_id` Host ID\n",
    "\n",
    "- `host_since` Date the Host joined Airbnb\n",
    "\n",
    "- `host_location` Location where the Host is based\n",
    "\n",
    "- `host_response_time` Estimate of how long the Host takes to respond\n",
    "\n",
    "- `host_response_rate` Percentage of times the Host responds\n",
    "\n",
    "- `host_acceptance_rate` Percentage of times the Host accepts a booking request\n",
    "\n",
    "- `host_is_superhost` Binary field to determine if the Host is a Superhost\n",
    "\n",
    "- `host_total_listings_count` Total listings the Host has in Airbnb\n",
    "\n",
    "- `host_has_profile_pic` Binary field to determine if the Host has a profile picture\n",
    "\n",
    "- `host_identity_verified` Binary field to determine if the Host has a verified identity\n",
    "\n",
    "- `neighbourhood` Neighborhood the Listing is in\n",
    "\n",
    "- `district` District the Listing is in\n",
    "\n",
    "- `city` City the Listing is in\n",
    "\n",
    "- `latitude` Listing's latitude\n",
    "\n",
    "- `longitude` Listing's longitude\n",
    "\n",
    "- `property_type` Type of property for the Listing\n",
    "\n",
    "- `room_type` Type of room type in Airbnb for the Listing\n",
    "\n",
    "- `accommodates` Guests the Listing accomodates\n",
    "\n",
    "- `bedrooms` Bedrooms in the Listing\n",
    "\n",
    "- `amenities` Amenities the Listing includes\n",
    "\n",
    "- `price` Listing price (in each country's currency)\n",
    "\n",
    "- `minimum_nights` Minimum nights per booking\n",
    "\n",
    "- `maximum_nights` Maximum nights per booking\n",
    "\n",
    "- `review_scores_rating` Listing's overall rating (out of 100)\n",
    "\n",
    "- `review_scores_accuracy` Listing's accuracy score based on what's promoted in Airbnb (out of 10)\n",
    "\n",
    "- `review_scores_cleanliness` Listing's cleanliness score (out of 10)\n",
    "\n",
    "- `review_scores_checkin` Listing's check-in experience score (out of 10)\n",
    "\n",
    "- `review_scores_communication` Listing's communication with the Host score (out of 10)\n",
    "\n",
    "- `review_scores_location` Listing's location score within the city (out of 10)\n",
    "\n",
    "- `review_scores_value` Listing's value score relative to its price (out of 10)\n",
    "\n",
    "- `instant_bookable`Binary field to determine if the Listing can be booked instantly"
   ]
  },
  {
   "cell_type": "markdown",
   "metadata": {},
   "source": [
    "- Display the sum of missing values."
   ]
  },
  {
   "cell_type": "code",
   "execution_count": 167,
   "metadata": {},
   "outputs": [
    {
     "data": {
      "text/plain": [
       "listing_id                          0\n",
       "name                              175\n",
       "host_id                             0\n",
       "host_since                        165\n",
       "host_location                     840\n",
       "host_response_time             128782\n",
       "host_response_rate             128782\n",
       "host_acceptance_rate           113087\n",
       "host_is_superhost                 165\n",
       "host_total_listings_count         165\n",
       "host_has_profile_pic              165\n",
       "host_identity_verified            165\n",
       "neighbourhood                       0\n",
       "district                       242700\n",
       "city                                0\n",
       "latitude                            0\n",
       "longitude                           0\n",
       "property_type                       0\n",
       "room_type                           0\n",
       "accommodates                        0\n",
       "bedrooms                        29435\n",
       "amenities                           0\n",
       "price                               0\n",
       "minimum_nights                      0\n",
       "maximum_nights                      0\n",
       "review_scores_rating            91405\n",
       "review_scores_accuracy          91713\n",
       "review_scores_cleanliness       91665\n",
       "review_scores_checkin           91771\n",
       "review_scores_communication     91687\n",
       "review_scores_location          91775\n",
       "review_scores_value             91785\n",
       "instant_bookable                    0\n",
       "dtype: int64"
      ]
     },
     "execution_count": 167,
     "metadata": {},
     "output_type": "execute_result"
    }
   ],
   "source": [
    "df.isnull().sum()"
   ]
  },
  {
   "cell_type": "markdown",
   "metadata": {},
   "source": [
    "- Display the percentage of missing values."
   ]
  },
  {
   "cell_type": "code",
   "execution_count": 168,
   "metadata": {},
   "outputs": [
    {
     "data": {
      "text/plain": [
       "listing_id                      0.000000\n",
       "name                            0.062564\n",
       "host_id                         0.000000\n",
       "host_since                      0.058989\n",
       "host_location                   0.300309\n",
       "host_response_time             46.040928\n",
       "host_response_rate             46.040928\n",
       "host_acceptance_rate           40.429799\n",
       "host_is_superhost               0.058989\n",
       "host_total_listings_count       0.058989\n",
       "host_has_profile_pic            0.058989\n",
       "host_identity_verified          0.058989\n",
       "neighbourhood                   0.000000\n",
       "district                       86.767818\n",
       "city                            0.000000\n",
       "latitude                        0.000000\n",
       "longitude                       0.000000\n",
       "property_type                   0.000000\n",
       "room_type                       0.000000\n",
       "accommodates                    0.000000\n",
       "bedrooms                       10.523324\n",
       "amenities                       0.000000\n",
       "price                           0.000000\n",
       "minimum_nights                  0.000000\n",
       "maximum_nights                  0.000000\n",
       "review_scores_rating           32.678255\n",
       "review_scores_accuracy         32.788368\n",
       "review_scores_cleanliness      32.771208\n",
       "review_scores_checkin          32.809104\n",
       "review_scores_communication    32.779073\n",
       "review_scores_location         32.810534\n",
       "review_scores_value            32.814109\n",
       "instant_bookable                0.000000\n",
       "dtype: float64"
      ]
     },
     "execution_count": 168,
     "metadata": {},
     "output_type": "execute_result"
    }
   ],
   "source": [
    "df.isnull().mean() * 100\n"
   ]
  },
  {
   "cell_type": "markdown",
   "metadata": {},
   "source": [
    "# 2. Data Cleaning"
   ]
  },
  {
   "cell_type": "code",
   "execution_count": 169,
   "metadata": {},
   "outputs": [],
   "source": [
    "new_df = df.copy()"
   ]
  },
  {
   "cell_type": "markdown",
   "metadata": {},
   "source": [
    "At this stage, we did the following:\n",
    "\n",
    "1. Dropped columns that we don't need in the analysis process \n",
    "\n",
    "2. Dropped columns with high missing percentages\n",
    "\n",
    "3. Removed rows that contain few missing values in columns"
   ]
  },
  {
   "cell_type": "code",
   "execution_count": 170,
   "metadata": {},
   "outputs": [
    {
     "data": {
      "text/plain": [
       "listing_id                     0\n",
       "name                         175\n",
       "host_id                        0\n",
       "host_since                   165\n",
       "host_is_superhost            165\n",
       "host_total_listings_count    165\n",
       "host_has_profile_pic         165\n",
       "host_identity_verified       165\n",
       "neighbourhood                  0\n",
       "city                           0\n",
       "latitude                       0\n",
       "longitude                      0\n",
       "property_type                  0\n",
       "room_type                      0\n",
       "accommodates                   0\n",
       "amenities                      0\n",
       "price                          0\n",
       "minimum_nights                 0\n",
       "maximum_nights                 0\n",
       "instant_bookable               0\n",
       "dtype: int64"
      ]
     },
     "execution_count": 170,
     "metadata": {},
     "output_type": "execute_result"
    }
   ],
   "source": [
    "# drop column\n",
    "new_df = new_df.drop('district', axis=1)\n",
    "new_df = new_df.drop('host_location', axis=1)\n",
    "new_df = new_df.drop('bedrooms', axis=1)\n",
    "new_df = new_df.drop('host_response_time', axis=1)\n",
    "new_df = new_df.drop('host_response_rate', axis=1)\n",
    "new_df = new_df.drop('host_acceptance_rate', axis=1)\n",
    "\n",
    "new_df = new_df.drop('review_scores_rating', axis=1)\n",
    "new_df = new_df.drop('review_scores_accuracy', axis=1)\n",
    "new_df = new_df.drop('review_scores_cleanliness', axis=1)\n",
    "new_df = new_df.drop('review_scores_checkin', axis=1)\n",
    "new_df = new_df.drop('review_scores_communication', axis=1)\n",
    "new_df = new_df.drop('review_scores_location', axis=1)\n",
    "new_df = new_df.drop('review_scores_value', axis=1)\n",
    "\n",
    "\n",
    "\n",
    "\n",
    "new_df.isnull().sum()"
   ]
  },
  {
   "cell_type": "code",
   "execution_count": 171,
   "metadata": {},
   "outputs": [],
   "source": [
    "# drop rows\n",
    "new_df.dropna(subset=['name', 'host_since', 'host_is_superhost', 'host_total_listings_count', 'host_has_profile_pic', 'host_identity_verified'], inplace=True)"
   ]
  },
  {
   "cell_type": "markdown",
   "metadata": {},
   "source": [
    "- Check the missing values after cleaning"
   ]
  },
  {
   "cell_type": "code",
   "execution_count": 172,
   "metadata": {},
   "outputs": [
    {
     "data": {
      "text/plain": [
       "listing_id                   0\n",
       "name                         0\n",
       "host_id                      0\n",
       "host_since                   0\n",
       "host_is_superhost            0\n",
       "host_total_listings_count    0\n",
       "host_has_profile_pic         0\n",
       "host_identity_verified       0\n",
       "neighbourhood                0\n",
       "city                         0\n",
       "latitude                     0\n",
       "longitude                    0\n",
       "property_type                0\n",
       "room_type                    0\n",
       "accommodates                 0\n",
       "amenities                    0\n",
       "price                        0\n",
       "minimum_nights               0\n",
       "maximum_nights               0\n",
       "instant_bookable             0\n",
       "dtype: int64"
      ]
     },
     "execution_count": 172,
     "metadata": {},
     "output_type": "execute_result"
    }
   ],
   "source": [
    "new_df.isnull().sum()"
   ]
  },
  {
   "cell_type": "markdown",
   "metadata": {},
   "source": [
    "- Number of rows/colmuns after cleaning"
   ]
  },
  {
   "cell_type": "code",
   "execution_count": 173,
   "metadata": {},
   "outputs": [
    {
     "data": {
      "text/plain": [
       "(279373, 20)"
      ]
     },
     "execution_count": 173,
     "metadata": {},
     "output_type": "execute_result"
    }
   ],
   "source": [
    "new_df.shape"
   ]
  },
  {
   "cell_type": "code",
   "execution_count": 174,
   "metadata": {},
   "outputs": [
    {
     "data": {
      "text/plain": [
       "339"
      ]
     },
     "execution_count": 174,
     "metadata": {},
     "output_type": "execute_result"
    }
   ],
   "source": [
    "(df.shape[0]) - (new_df.shape[0])"
   ]
  },
  {
   "cell_type": "markdown",
   "metadata": {},
   "source": [
    "- Check the data types"
   ]
  },
  {
   "cell_type": "code",
   "execution_count": 175,
   "metadata": {},
   "outputs": [
    {
     "data": {
      "text/plain": [
       "listing_id                     int64\n",
       "name                          object\n",
       "host_id                        int64\n",
       "host_since                    object\n",
       "host_is_superhost             object\n",
       "host_total_listings_count    float64\n",
       "host_has_profile_pic          object\n",
       "host_identity_verified        object\n",
       "neighbourhood                 object\n",
       "city                          object\n",
       "latitude                     float64\n",
       "longitude                    float64\n",
       "property_type                 object\n",
       "room_type                     object\n",
       "accommodates                   int64\n",
       "amenities                     object\n",
       "price                          int64\n",
       "minimum_nights                 int64\n",
       "maximum_nights                 int64\n",
       "instant_bookable              object\n",
       "dtype: object"
      ]
     },
     "execution_count": 175,
     "metadata": {},
     "output_type": "execute_result"
    }
   ],
   "source": [
    "new_df.dtypes"
   ]
  },
  {
   "cell_type": "markdown",
   "metadata": {},
   "source": [
    "- Convert the host_since column into datetime object"
   ]
  },
  {
   "cell_type": "code",
   "execution_count": 176,
   "metadata": {},
   "outputs": [
    {
     "name": "stdout",
     "output_type": "stream",
     "text": [
      "<class 'pandas.core.frame.DataFrame'>\n",
      "Index: 279373 entries, 0 to 279711\n",
      "Data columns (total 20 columns):\n",
      " #   Column                     Non-Null Count   Dtype         \n",
      "---  ------                     --------------   -----         \n",
      " 0   listing_id                 279373 non-null  int64         \n",
      " 1   name                       279373 non-null  object        \n",
      " 2   host_id                    279373 non-null  int64         \n",
      " 3   host_since                 279373 non-null  datetime64[ns]\n",
      " 4   host_is_superhost          279373 non-null  object        \n",
      " 5   host_total_listings_count  279373 non-null  float64       \n",
      " 6   host_has_profile_pic       279373 non-null  object        \n",
      " 7   host_identity_verified     279373 non-null  object        \n",
      " 8   neighbourhood              279373 non-null  object        \n",
      " 9   city                       279373 non-null  object        \n",
      " 10  latitude                   279373 non-null  float64       \n",
      " 11  longitude                  279373 non-null  float64       \n",
      " 12  property_type              279373 non-null  object        \n",
      " 13  room_type                  279373 non-null  object        \n",
      " 14  accommodates               279373 non-null  int64         \n",
      " 15  amenities                  279373 non-null  object        \n",
      " 16  price                      279373 non-null  int64         \n",
      " 17  minimum_nights             279373 non-null  int64         \n",
      " 18  maximum_nights             279373 non-null  int64         \n",
      " 19  instant_bookable           279373 non-null  object        \n",
      "dtypes: datetime64[ns](1), float64(3), int64(6), object(10)\n",
      "memory usage: 44.8+ MB\n"
     ]
    }
   ],
   "source": [
    "new_df['host_since'] = pd.to_datetime(new_df['host_since'])\n",
    "new_df.info()"
   ]
  },
  {
   "cell_type": "markdown",
   "metadata": {},
   "source": [
    "- Extract year from host_since column and add it to new column"
   ]
  },
  {
   "cell_type": "code",
   "execution_count": 177,
   "metadata": {},
   "outputs": [],
   "source": [
    "# year column\n",
    "new_df['year'] = new_df['host_since'].dt.year\n"
   ]
  },
  {
   "cell_type": "code",
   "execution_count": 178,
   "metadata": {},
   "outputs": [
    {
     "data": {
      "text/plain": [
       "(279373, 21)"
      ]
     },
     "execution_count": 178,
     "metadata": {},
     "output_type": "execute_result"
    }
   ],
   "source": [
    "new_df.shape"
   ]
  },
  {
   "cell_type": "markdown",
   "metadata": {},
   "source": [
    "- Some statistics about dataset"
   ]
  },
  {
   "cell_type": "code",
   "execution_count": 179,
   "metadata": {},
   "outputs": [
    {
     "data": {
      "text/html": [
       "<div>\n",
       "<style scoped>\n",
       "    .dataframe tbody tr th:only-of-type {\n",
       "        vertical-align: middle;\n",
       "    }\n",
       "\n",
       "    .dataframe tbody tr th {\n",
       "        vertical-align: top;\n",
       "    }\n",
       "\n",
       "    .dataframe thead th {\n",
       "        text-align: right;\n",
       "    }\n",
       "</style>\n",
       "<table border=\"1\" class=\"dataframe\">\n",
       "  <thead>\n",
       "    <tr style=\"text-align: right;\">\n",
       "      <th></th>\n",
       "      <th>listing_id</th>\n",
       "      <th>host_id</th>\n",
       "      <th>host_since</th>\n",
       "      <th>host_total_listings_count</th>\n",
       "      <th>latitude</th>\n",
       "      <th>longitude</th>\n",
       "      <th>accommodates</th>\n",
       "      <th>price</th>\n",
       "      <th>minimum_nights</th>\n",
       "      <th>maximum_nights</th>\n",
       "      <th>year</th>\n",
       "    </tr>\n",
       "  </thead>\n",
       "  <tbody>\n",
       "    <tr>\n",
       "      <th>count</th>\n",
       "      <td>2.793730e+05</td>\n",
       "      <td>2.793730e+05</td>\n",
       "      <td>279373</td>\n",
       "      <td>279373.000000</td>\n",
       "      <td>279373.000000</td>\n",
       "      <td>279373.000000</td>\n",
       "      <td>279373.000000</td>\n",
       "      <td>279373.00000</td>\n",
       "      <td>279373.000000</td>\n",
       "      <td>2.793730e+05</td>\n",
       "      <td>279373.000000</td>\n",
       "    </tr>\n",
       "    <tr>\n",
       "      <th>mean</th>\n",
       "      <td>2.639491e+07</td>\n",
       "      <td>1.082327e+08</td>\n",
       "      <td>2016-04-11 20:03:30.041772288</td>\n",
       "      <td>24.596142</td>\n",
       "      <td>18.763672</td>\n",
       "      <td>12.593138</td>\n",
       "      <td>3.289026</td>\n",
       "      <td>608.67097</td>\n",
       "      <td>8.050388</td>\n",
       "      <td>2.759105e+04</td>\n",
       "      <td>2015.777452</td>\n",
       "    </tr>\n",
       "    <tr>\n",
       "      <th>min</th>\n",
       "      <td>2.577000e+03</td>\n",
       "      <td>1.822000e+03</td>\n",
       "      <td>2008-08-12 00:00:00</td>\n",
       "      <td>0.000000</td>\n",
       "      <td>-34.264400</td>\n",
       "      <td>-99.339630</td>\n",
       "      <td>0.000000</td>\n",
       "      <td>0.00000</td>\n",
       "      <td>1.000000</td>\n",
       "      <td>1.000000e+00</td>\n",
       "      <td>2008.000000</td>\n",
       "    </tr>\n",
       "    <tr>\n",
       "      <th>25%</th>\n",
       "      <td>1.386010e+07</td>\n",
       "      <td>1.722264e+07</td>\n",
       "      <td>2014-07-01 00:00:00</td>\n",
       "      <td>1.000000</td>\n",
       "      <td>-22.964390</td>\n",
       "      <td>-43.198090</td>\n",
       "      <td>2.000000</td>\n",
       "      <td>75.00000</td>\n",
       "      <td>1.000000</td>\n",
       "      <td>4.500000e+01</td>\n",
       "      <td>2014.000000</td>\n",
       "    </tr>\n",
       "    <tr>\n",
       "      <th>50%</th>\n",
       "      <td>2.769104e+07</td>\n",
       "      <td>5.839080e+07</td>\n",
       "      <td>2016-02-15 00:00:00</td>\n",
       "      <td>1.000000</td>\n",
       "      <td>40.710730</td>\n",
       "      <td>2.382780</td>\n",
       "      <td>2.000000</td>\n",
       "      <td>150.00000</td>\n",
       "      <td>2.000000</td>\n",
       "      <td>1.125000e+03</td>\n",
       "      <td>2016.000000</td>\n",
       "    </tr>\n",
       "    <tr>\n",
       "      <th>75%</th>\n",
       "      <td>3.978971e+07</td>\n",
       "      <td>1.833378e+08</td>\n",
       "      <td>2018-04-10 00:00:00</td>\n",
       "      <td>4.000000</td>\n",
       "      <td>41.908600</td>\n",
       "      <td>28.986730</td>\n",
       "      <td>4.000000</td>\n",
       "      <td>474.00000</td>\n",
       "      <td>5.000000</td>\n",
       "      <td>1.125000e+03</td>\n",
       "      <td>2018.000000</td>\n",
       "    </tr>\n",
       "    <tr>\n",
       "      <th>max</th>\n",
       "      <td>4.834353e+07</td>\n",
       "      <td>3.901874e+08</td>\n",
       "      <td>2021-02-26 00:00:00</td>\n",
       "      <td>7235.000000</td>\n",
       "      <td>48.904910</td>\n",
       "      <td>151.339810</td>\n",
       "      <td>16.000000</td>\n",
       "      <td>625216.00000</td>\n",
       "      <td>9999.000000</td>\n",
       "      <td>2.147484e+09</td>\n",
       "      <td>2021.000000</td>\n",
       "    </tr>\n",
       "    <tr>\n",
       "      <th>std</th>\n",
       "      <td>1.442190e+07</td>\n",
       "      <td>1.108795e+08</td>\n",
       "      <td>NaN</td>\n",
       "      <td>284.128985</td>\n",
       "      <td>32.557908</td>\n",
       "      <td>73.085554</td>\n",
       "      <td>2.133521</td>\n",
       "      <td>3442.08803</td>\n",
       "      <td>31.480618</td>\n",
       "      <td>7.287292e+06</td>\n",
       "      <td>2.444049</td>\n",
       "    </tr>\n",
       "  </tbody>\n",
       "</table>\n",
       "</div>"
      ],
      "text/plain": [
       "         listing_id       host_id                     host_since  \\\n",
       "count  2.793730e+05  2.793730e+05                         279373   \n",
       "mean   2.639491e+07  1.082327e+08  2016-04-11 20:03:30.041772288   \n",
       "min    2.577000e+03  1.822000e+03            2008-08-12 00:00:00   \n",
       "25%    1.386010e+07  1.722264e+07            2014-07-01 00:00:00   \n",
       "50%    2.769104e+07  5.839080e+07            2016-02-15 00:00:00   \n",
       "75%    3.978971e+07  1.833378e+08            2018-04-10 00:00:00   \n",
       "max    4.834353e+07  3.901874e+08            2021-02-26 00:00:00   \n",
       "std    1.442190e+07  1.108795e+08                            NaN   \n",
       "\n",
       "       host_total_listings_count       latitude      longitude   accommodates  \\\n",
       "count              279373.000000  279373.000000  279373.000000  279373.000000   \n",
       "mean                   24.596142      18.763672      12.593138       3.289026   \n",
       "min                     0.000000     -34.264400     -99.339630       0.000000   \n",
       "25%                     1.000000     -22.964390     -43.198090       2.000000   \n",
       "50%                     1.000000      40.710730       2.382780       2.000000   \n",
       "75%                     4.000000      41.908600      28.986730       4.000000   \n",
       "max                  7235.000000      48.904910     151.339810      16.000000   \n",
       "std                   284.128985      32.557908      73.085554       2.133521   \n",
       "\n",
       "              price  minimum_nights  maximum_nights           year  \n",
       "count  279373.00000   279373.000000    2.793730e+05  279373.000000  \n",
       "mean      608.67097        8.050388    2.759105e+04    2015.777452  \n",
       "min         0.00000        1.000000    1.000000e+00    2008.000000  \n",
       "25%        75.00000        1.000000    4.500000e+01    2014.000000  \n",
       "50%       150.00000        2.000000    1.125000e+03    2016.000000  \n",
       "75%       474.00000        5.000000    1.125000e+03    2018.000000  \n",
       "max    625216.00000     9999.000000    2.147484e+09    2021.000000  \n",
       "std      3442.08803       31.480618    7.287292e+06       2.444049  "
      ]
     },
     "execution_count": 179,
     "metadata": {},
     "output_type": "execute_result"
    }
   ],
   "source": [
    "new_df.describe()"
   ]
  },
  {
   "cell_type": "markdown",
   "metadata": {},
   "source": [
    "- Check the duplicated rows"
   ]
  },
  {
   "cell_type": "code",
   "execution_count": 180,
   "metadata": {},
   "outputs": [
    {
     "data": {
      "text/plain": [
       "0"
      ]
     },
     "execution_count": 180,
     "metadata": {},
     "output_type": "execute_result"
    }
   ],
   "source": [
    "new_df.duplicated().sum()\n",
    "# there are no duplicated rows"
   ]
  },
  {
   "cell_type": "markdown",
   "metadata": {},
   "source": [
    "- Add new column to our DataFrame named \"continents\""
   ]
  },
  {
   "cell_type": "code",
   "execution_count": 181,
   "metadata": {},
   "outputs": [
    {
     "data": {
      "text/html": [
       "<div>\n",
       "<style scoped>\n",
       "    .dataframe tbody tr th:only-of-type {\n",
       "        vertical-align: middle;\n",
       "    }\n",
       "\n",
       "    .dataframe tbody tr th {\n",
       "        vertical-align: top;\n",
       "    }\n",
       "\n",
       "    .dataframe thead th {\n",
       "        text-align: right;\n",
       "    }\n",
       "</style>\n",
       "<table border=\"1\" class=\"dataframe\">\n",
       "  <thead>\n",
       "    <tr style=\"text-align: right;\">\n",
       "      <th></th>\n",
       "      <th>listing_id</th>\n",
       "      <th>name</th>\n",
       "      <th>host_id</th>\n",
       "      <th>host_since</th>\n",
       "      <th>host_is_superhost</th>\n",
       "      <th>host_total_listings_count</th>\n",
       "      <th>host_has_profile_pic</th>\n",
       "      <th>host_identity_verified</th>\n",
       "      <th>neighbourhood</th>\n",
       "      <th>city</th>\n",
       "      <th>...</th>\n",
       "      <th>property_type</th>\n",
       "      <th>room_type</th>\n",
       "      <th>accommodates</th>\n",
       "      <th>amenities</th>\n",
       "      <th>price</th>\n",
       "      <th>minimum_nights</th>\n",
       "      <th>maximum_nights</th>\n",
       "      <th>instant_bookable</th>\n",
       "      <th>year</th>\n",
       "      <th>Continent</th>\n",
       "    </tr>\n",
       "  </thead>\n",
       "  <tbody>\n",
       "    <tr>\n",
       "      <th>0</th>\n",
       "      <td>281420</td>\n",
       "      <td>Beautiful Flat in le Village Montmartre, Paris</td>\n",
       "      <td>1466919</td>\n",
       "      <td>2011-12-03</td>\n",
       "      <td>f</td>\n",
       "      <td>1.0</td>\n",
       "      <td>t</td>\n",
       "      <td>f</td>\n",
       "      <td>Buttes-Montmartre</td>\n",
       "      <td>Paris</td>\n",
       "      <td>...</td>\n",
       "      <td>Entire apartment</td>\n",
       "      <td>Entire place</td>\n",
       "      <td>2</td>\n",
       "      <td>[\"Heating\", \"Kitchen\", \"Washer\", \"Wifi\", \"Long...</td>\n",
       "      <td>53</td>\n",
       "      <td>2</td>\n",
       "      <td>1125</td>\n",
       "      <td>f</td>\n",
       "      <td>2011</td>\n",
       "      <td>Europe</td>\n",
       "    </tr>\n",
       "    <tr>\n",
       "      <th>1</th>\n",
       "      <td>3705183</td>\n",
       "      <td>39 mÃÂ² Paris (Sacre CÃâur)</td>\n",
       "      <td>10328771</td>\n",
       "      <td>2013-11-29</td>\n",
       "      <td>f</td>\n",
       "      <td>1.0</td>\n",
       "      <td>t</td>\n",
       "      <td>t</td>\n",
       "      <td>Buttes-Montmartre</td>\n",
       "      <td>Paris</td>\n",
       "      <td>...</td>\n",
       "      <td>Entire apartment</td>\n",
       "      <td>Entire place</td>\n",
       "      <td>2</td>\n",
       "      <td>[\"Shampoo\", \"Heating\", \"Kitchen\", \"Essentials\"...</td>\n",
       "      <td>120</td>\n",
       "      <td>2</td>\n",
       "      <td>1125</td>\n",
       "      <td>f</td>\n",
       "      <td>2013</td>\n",
       "      <td>Europe</td>\n",
       "    </tr>\n",
       "    <tr>\n",
       "      <th>2</th>\n",
       "      <td>4082273</td>\n",
       "      <td>Lovely apartment with Terrace, 60m2</td>\n",
       "      <td>19252768</td>\n",
       "      <td>2014-07-31</td>\n",
       "      <td>f</td>\n",
       "      <td>1.0</td>\n",
       "      <td>t</td>\n",
       "      <td>f</td>\n",
       "      <td>Elysee</td>\n",
       "      <td>Paris</td>\n",
       "      <td>...</td>\n",
       "      <td>Entire apartment</td>\n",
       "      <td>Entire place</td>\n",
       "      <td>2</td>\n",
       "      <td>[\"Heating\", \"TV\", \"Kitchen\", \"Washer\", \"Wifi\",...</td>\n",
       "      <td>89</td>\n",
       "      <td>2</td>\n",
       "      <td>1125</td>\n",
       "      <td>f</td>\n",
       "      <td>2014</td>\n",
       "      <td>Europe</td>\n",
       "    </tr>\n",
       "    <tr>\n",
       "      <th>3</th>\n",
       "      <td>4797344</td>\n",
       "      <td>Cosy studio (close to Eiffel tower)</td>\n",
       "      <td>10668311</td>\n",
       "      <td>2013-12-17</td>\n",
       "      <td>f</td>\n",
       "      <td>1.0</td>\n",
       "      <td>t</td>\n",
       "      <td>t</td>\n",
       "      <td>Vaugirard</td>\n",
       "      <td>Paris</td>\n",
       "      <td>...</td>\n",
       "      <td>Entire apartment</td>\n",
       "      <td>Entire place</td>\n",
       "      <td>2</td>\n",
       "      <td>[\"Heating\", \"TV\", \"Kitchen\", \"Wifi\", \"Long ter...</td>\n",
       "      <td>58</td>\n",
       "      <td>2</td>\n",
       "      <td>1125</td>\n",
       "      <td>f</td>\n",
       "      <td>2013</td>\n",
       "      <td>Europe</td>\n",
       "    </tr>\n",
       "    <tr>\n",
       "      <th>4</th>\n",
       "      <td>4823489</td>\n",
       "      <td>Close to Eiffel Tower - Beautiful flat : 2 rooms</td>\n",
       "      <td>24837558</td>\n",
       "      <td>2014-12-14</td>\n",
       "      <td>f</td>\n",
       "      <td>1.0</td>\n",
       "      <td>t</td>\n",
       "      <td>f</td>\n",
       "      <td>Passy</td>\n",
       "      <td>Paris</td>\n",
       "      <td>...</td>\n",
       "      <td>Entire apartment</td>\n",
       "      <td>Entire place</td>\n",
       "      <td>2</td>\n",
       "      <td>[\"Heating\", \"TV\", \"Kitchen\", \"Essentials\", \"Ha...</td>\n",
       "      <td>60</td>\n",
       "      <td>2</td>\n",
       "      <td>1125</td>\n",
       "      <td>f</td>\n",
       "      <td>2014</td>\n",
       "      <td>Europe</td>\n",
       "    </tr>\n",
       "  </tbody>\n",
       "</table>\n",
       "<p>5 rows × 22 columns</p>\n",
       "</div>"
      ],
      "text/plain": [
       "   listing_id                                              name   host_id  \\\n",
       "0      281420    Beautiful Flat in le Village Montmartre, Paris   1466919   \n",
       "1     3705183                   39 mÃÂ² Paris (Sacre CÃ\n",
       "âur)  10328771   \n",
       "2     4082273               Lovely apartment with Terrace, 60m2  19252768   \n",
       "3     4797344               Cosy studio (close to Eiffel tower)  10668311   \n",
       "4     4823489  Close to Eiffel Tower - Beautiful flat : 2 rooms  24837558   \n",
       "\n",
       "  host_since host_is_superhost  host_total_listings_count  \\\n",
       "0 2011-12-03                 f                        1.0   \n",
       "1 2013-11-29                 f                        1.0   \n",
       "2 2014-07-31                 f                        1.0   \n",
       "3 2013-12-17                 f                        1.0   \n",
       "4 2014-12-14                 f                        1.0   \n",
       "\n",
       "  host_has_profile_pic host_identity_verified      neighbourhood   city  ...  \\\n",
       "0                    t                      f  Buttes-Montmartre  Paris  ...   \n",
       "1                    t                      t  Buttes-Montmartre  Paris  ...   \n",
       "2                    t                      f             Elysee  Paris  ...   \n",
       "3                    t                      t          Vaugirard  Paris  ...   \n",
       "4                    t                      f              Passy  Paris  ...   \n",
       "\n",
       "      property_type     room_type accommodates  \\\n",
       "0  Entire apartment  Entire place            2   \n",
       "1  Entire apartment  Entire place            2   \n",
       "2  Entire apartment  Entire place            2   \n",
       "3  Entire apartment  Entire place            2   \n",
       "4  Entire apartment  Entire place            2   \n",
       "\n",
       "                                           amenities  price minimum_nights  \\\n",
       "0  [\"Heating\", \"Kitchen\", \"Washer\", \"Wifi\", \"Long...     53              2   \n",
       "1  [\"Shampoo\", \"Heating\", \"Kitchen\", \"Essentials\"...    120              2   \n",
       "2  [\"Heating\", \"TV\", \"Kitchen\", \"Washer\", \"Wifi\",...     89              2   \n",
       "3  [\"Heating\", \"TV\", \"Kitchen\", \"Wifi\", \"Long ter...     58              2   \n",
       "4  [\"Heating\", \"TV\", \"Kitchen\", \"Essentials\", \"Ha...     60              2   \n",
       "\n",
       "   maximum_nights  instant_bookable  year Continent  \n",
       "0            1125                 f  2011    Europe  \n",
       "1            1125                 f  2013    Europe  \n",
       "2            1125                 f  2014    Europe  \n",
       "3            1125                 f  2013    Europe  \n",
       "4            1125                 f  2014    Europe  \n",
       "\n",
       "[5 rows x 22 columns]"
      ]
     },
     "execution_count": 181,
     "metadata": {},
     "output_type": "execute_result"
    }
   ],
   "source": [
    "continents = {\n",
    "    \"Asia\": [\"Bangkok\", \"Hong Kong\"],\n",
    "    \"Europe\": [\"Paris\", \"Rome\", \"Istanbul\"],\n",
    "    \"Africa\": [\"Cape Town\"],\n",
    "    \"North America\": [\"New York\", \"Mexico City\"],\n",
    "    \"South America\": [\"Rio de Janeiro\"],\n",
    "    \"Australia\": [\"Sydney\"],\n",
    "}\n",
    "\n",
    "new_df['Continent'] = new_df['city'].map(lambda city: next((continent for continent, cities in continents.items() if city in cities), 'NA'))\n",
    "new_df.head()"
   ]
  },
  {
   "cell_type": "markdown",
   "metadata": {},
   "source": [
    "# 3. Exploratory Data Analysis:"
   ]
  },
  {
   "cell_type": "markdown",
   "metadata": {},
   "source": [
    "## Univariate analysis "
   ]
  },
  {
   "cell_type": "markdown",
   "metadata": {},
   "source": [
    "- Import the required libraries"
   ]
  },
  {
   "cell_type": "code",
   "execution_count": 182,
   "metadata": {},
   "outputs": [],
   "source": [
    "import matplotlib.pyplot as plt\n",
    "import seaborn as sns "
   ]
  },
  {
   "cell_type": "markdown",
   "metadata": {},
   "source": [
    "### New Hosts Over Years (Bar Chart)"
   ]
  },
  {
   "cell_type": "code",
   "execution_count": 183,
   "metadata": {},
   "outputs": [
    {
     "data": {
      "text/plain": [
       "2008"
      ]
     },
     "execution_count": 183,
     "metadata": {},
     "output_type": "execute_result"
    }
   ],
   "source": [
    "new_df['year'].min()"
   ]
  },
  {
   "cell_type": "code",
   "execution_count": 184,
   "metadata": {},
   "outputs": [
    {
     "data": {
      "text/plain": [
       "2021"
      ]
     },
     "execution_count": 184,
     "metadata": {},
     "output_type": "execute_result"
    }
   ],
   "source": [
    "new_df['year'].max()"
   ]
  },
  {
   "cell_type": "code",
   "execution_count": 185,
   "metadata": {},
   "outputs": [
    {
     "data": {
      "text/plain": [
       "year\n",
       "2008       65\n",
       "2009      461\n",
       "2010     2149\n",
       "2011     6965\n",
       "2012    16056\n",
       "2013    25441\n",
       "2014    37586\n",
       "2015    44832\n",
       "2016    42376\n",
       "2017    26550\n",
       "2018    27019\n",
       "2019    31445\n",
       "2020    17220\n",
       "2021     1208\n",
       "Name: count, dtype: int64"
      ]
     },
     "execution_count": 185,
     "metadata": {},
     "output_type": "execute_result"
    }
   ],
   "source": [
    "year_listing_counts = new_df['year'].value_counts().sort_index()\n",
    "year_listing_counts"
   ]
  },
  {
   "cell_type": "code",
   "execution_count": 186,
   "metadata": {},
   "outputs": [
    {
     "data": {
      "image/png": "[encoded data removed]",
      "text/plain": [
       "<Figure size 700x600 with 1 Axes>"
      ]
     },
     "metadata": {},
     "output_type": "display_data"
    }
   ],
   "source": [
    "year_listing_counts.plot.bar(figsize=(7, 6))  \n",
    "\n",
    "\n",
    "plt.xlabel('Year')\n",
    "plt.ylabel('Number of New Hosts')\n",
    "plt.title(\"New Hosts Over Years\")\n",
    "\n",
    "\n",
    "plt.xticks(rotation=45) if len(year_listing_counts) > 10 else plt.xticks()  \n",
    "plt.grid(axis='y', linestyle='--', alpha=0.6)  \n",
    "plt.tight_layout() \n",
    "plt.show()\n"
   ]
  },
  {
   "cell_type": "markdown",
   "metadata": {},
   "source": [
    "The bar graph depicts the increase in the number of new hosts on Airbnb since its inception in 2008, reaching its peak in 2015. Subsequently, there was a significant decline in 2017, followed by a gradual increase until 2019. However, there was another noticeable decrease thereafter, possibly due to the COVID-19 pandemic and global events occurring at that time."
   ]
  },
  {
   "cell_type": "markdown",
   "metadata": {},
   "source": [
    "### Airbnb Listing by Continent (Pie Chart)"
   ]
  },
  {
   "cell_type": "code",
   "execution_count": 187,
   "metadata": {},
   "outputs": [
    {
     "data": {
      "text/plain": [
       "Continent\n",
       "Europe           41.8\n",
       "North America    20.4\n",
       "Australia        12.0\n",
       "South America     9.5\n",
       "Asia              9.5\n",
       "Africa            6.8\n",
       "Name: count, dtype: float64"
      ]
     },
     "execution_count": 187,
     "metadata": {},
     "output_type": "execute_result"
    }
   ],
   "source": [
    "continent_listings_count = new_df['Continent'].value_counts()\n",
    "percentages = continent_listings_count / continent_listings_count.sum() * 100\n",
    "percentages.round(1)"
   ]
  },
  {
   "cell_type": "code",
   "execution_count": 188,
   "metadata": {},
   "outputs": [
    {
     "data": {
      "image/png": "[encoded data removed]",
      "text/plain": [
       "<Figure size 800x800 with 1 Axes>"
      ]
     },
     "metadata": {},
     "output_type": "display_data"
    }
   ],
   "source": [
    "plt.figure(figsize=(8, 8))\n",
    "percentages.plot(kind='pie', autopct='%1.1f%%', title='Percentage of Listing Vs Continent')\n",
    "plt.ylabel('')    \n",
    "plt.show()"
   ]
  },
  {
   "cell_type": "markdown",
   "metadata": {},
   "source": [
    "The Pie chart illustrates Europe's dominance in Airbnb listings, followed by North America, then Australia. South America and Asia have equal shares, while Africa has the fewest listings on the platform."
   ]
  },
  {
   "cell_type": "markdown",
   "metadata": {},
   "source": [
    "### Top 3 Cities with the Most Airbnb Listings"
   ]
  },
  {
   "cell_type": "code",
   "execution_count": 189,
   "metadata": {},
   "outputs": [
    {
     "data": {
      "text/plain": [
       "city\n",
       "Paris       64594\n",
       "New York    36981\n",
       "Sydney      33583\n",
       "Name: count, dtype: int64"
      ]
     },
     "execution_count": 189,
     "metadata": {},
     "output_type": "execute_result"
    }
   ],
   "source": [
    "top_cities = new_df['city'].value_counts().head(3)\n",
    "top_cities"
   ]
  },
  {
   "cell_type": "markdown",
   "metadata": {},
   "source": [
    "## Bi-variate analysis"
   ]
  },
  {
   "cell_type": "markdown",
   "metadata": {},
   "source": [
    "### Top 3 Property Types in Paris, New York, and Sydney"
   ]
  },
  {
   "cell_type": "code",
   "execution_count": 190,
   "metadata": {},
   "outputs": [
    {
     "data": {
      "text/plain": [
       "property_type\n",
       "Entire apartment             138804\n",
       "Private room in apartment     47242\n",
       "Private room in house         13283\n",
       "Name: count, dtype: int64"
      ]
     },
     "execution_count": 190,
     "metadata": {},
     "output_type": "execute_result"
    }
   ],
   "source": [
    "top_property = new_df['property_type'].value_counts().head(3)\n",
    "top_property"
   ]
  },
  {
   "cell_type": "code",
   "execution_count": 191,
   "metadata": {},
   "outputs": [
    {
     "data": {
      "image/png": "[encoded data removed]",
      "text/plain": [
       "<Figure size 1000x800 with 1 Axes>"
      ]
     },
     "metadata": {},
     "output_type": "display_data"
    }
   ],
   "source": [
    "plt.figure(figsize=(10,8))\n",
    "ax = sns.countplot(data=new_df[new_df['city'].isin(['Paris', 'New York', 'Sydney'])], y='property_type', order=new_df['property_type'].value_counts().index[:3], hue='city')\n",
    "ax.set_title(\"Property Types in Paris, New York, and Sydney\")\n",
    "ax.set_ylabel('Property Type')\n",
    "plt.show()"
   ]
  },
  {
   "cell_type": "markdown",
   "metadata": {},
   "source": [
    "In this plot, we observe that Entire apartments are among the most common property types listed on Airbnb, with Paris having the highest number of listings in this category.\n",
    "As for Private rooms in apartments, they come next in terms of listings on the platform, with New York having the largest number of listings of this type.\n",
    "Finally, Private rooms in houses rank third in the ranking of property types, with Sydney possessing the highest number of listings in this category."
   ]
  },
  {
   "cell_type": "markdown",
   "metadata": {},
   "source": [
    "### Average Prices for Different Room Type in Different Cities"
   ]
  },
  {
   "cell_type": "code",
   "execution_count": 192,
   "metadata": {},
   "outputs": [
    {
     "data": {
      "text/html": [
       "<div>\n",
       "<style scoped>\n",
       "    .dataframe tbody tr th:only-of-type {\n",
       "        vertical-align: middle;\n",
       "    }\n",
       "\n",
       "    .dataframe tbody tr th {\n",
       "        vertical-align: top;\n",
       "    }\n",
       "\n",
       "    .dataframe thead th {\n",
       "        text-align: right;\n",
       "    }\n",
       "</style>\n",
       "<table border=\"1\" class=\"dataframe\">\n",
       "  <thead>\n",
       "    <tr style=\"text-align: right;\">\n",
       "      <th>city</th>\n",
       "      <th>New York</th>\n",
       "      <th>Paris</th>\n",
       "      <th>Sydney</th>\n",
       "    </tr>\n",
       "    <tr>\n",
       "      <th>room_type</th>\n",
       "      <th></th>\n",
       "      <th></th>\n",
       "      <th></th>\n",
       "    </tr>\n",
       "  </thead>\n",
       "  <tbody>\n",
       "    <tr>\n",
       "      <th>Entire place</th>\n",
       "      <td>191.442559</td>\n",
       "      <td>114.132913</td>\n",
       "      <td>293.262705</td>\n",
       "    </tr>\n",
       "    <tr>\n",
       "      <th>Hotel room</th>\n",
       "      <td>228.568562</td>\n",
       "      <td>228.990688</td>\n",
       "      <td>201.416309</td>\n",
       "    </tr>\n",
       "    <tr>\n",
       "      <th>Private room</th>\n",
       "      <td>86.331688</td>\n",
       "      <td>87.849238</td>\n",
       "      <td>113.762146</td>\n",
       "    </tr>\n",
       "    <tr>\n",
       "      <th>Shared room</th>\n",
       "      <td>100.948905</td>\n",
       "      <td>47.205189</td>\n",
       "      <td>62.683587</td>\n",
       "    </tr>\n",
       "  </tbody>\n",
       "</table>\n",
       "</div>"
      ],
      "text/plain": [
       "city            New York       Paris      Sydney\n",
       "room_type                                       \n",
       "Entire place  191.442559  114.132913  293.262705\n",
       "Hotel room    228.568562  228.990688  201.416309\n",
       "Private room   86.331688   87.849238  113.762146\n",
       "Shared room   100.948905   47.205189   62.683587"
      ]
     },
     "execution_count": 192,
     "metadata": {},
     "output_type": "execute_result"
    }
   ],
   "source": [
    "filtered_df = new_df[new_df['city'].isin(new_df['city'].value_counts().index[:3])]\n",
    "pivot_df = filtered_df.pivot_table(index='room_type', columns='city', values='price', aggfunc='mean')\n",
    "pivot_df"
   ]
  },
  {
   "cell_type": "code",
   "execution_count": 193,
   "metadata": {},
   "outputs": [
    {
     "data": {
      "image/png": "[encoded data removed]",
      "text/plain": [
       "<Figure size 1000x800 with 2 Axes>"
      ]
     },
     "metadata": {},
     "output_type": "display_data"
    }
   ],
   "source": [
    "plt.figure(figsize=(10, 8))\n",
    "sns.heatmap(pivot_df, annot=True, cmap='coolwarm', fmt=\".1f\")\n",
    "plt.title('Average price of different room type in each city')\n",
    "plt.xlabel('City')\n",
    "plt.ylabel('Room Type')\n",
    "plt.show()"
   ]
  },
  {
   "cell_type": "markdown",
   "metadata": {},
   "source": [
    "From this heatmap, we can observe the following: \n",
    "\n",
    "- The average prices of Entire rooms in Sydney are the highest compared to other types, while shared rooms are the cheapest. \n",
    "\n",
    "- Hotel rooms in Paris have the highest average prices, while shared rooms are the cheapest. \n",
    "\n",
    "- Hotel rooms are the most expensive in New York, with private rooms being the cheapest."
   ]
  },
  {
   "cell_type": "markdown",
   "metadata": {},
   "source": [
    "# 4. Features Engineering"
   ]
  },
  {
   "cell_type": "code",
   "execution_count": 194,
   "metadata": {},
   "outputs": [
    {
     "data": {
      "text/html": [
       "<div>\n",
       "<style scoped>\n",
       "    .dataframe tbody tr th:only-of-type {\n",
       "        vertical-align: middle;\n",
       "    }\n",
       "\n",
       "    .dataframe tbody tr th {\n",
       "        vertical-align: top;\n",
       "    }\n",
       "\n",
       "    .dataframe thead th {\n",
       "        text-align: right;\n",
       "    }\n",
       "</style>\n",
       "<table border=\"1\" class=\"dataframe\">\n",
       "  <thead>\n",
       "    <tr style=\"text-align: right;\">\n",
       "      <th></th>\n",
       "      <th>listing_id</th>\n",
       "      <th>name</th>\n",
       "      <th>host_id</th>\n",
       "      <th>host_since</th>\n",
       "      <th>host_is_superhost</th>\n",
       "      <th>host_total_listings_count</th>\n",
       "      <th>host_has_profile_pic</th>\n",
       "      <th>host_identity_verified</th>\n",
       "      <th>neighbourhood</th>\n",
       "      <th>city</th>\n",
       "      <th>...</th>\n",
       "      <th>property_type</th>\n",
       "      <th>room_type</th>\n",
       "      <th>accommodates</th>\n",
       "      <th>amenities</th>\n",
       "      <th>price</th>\n",
       "      <th>minimum_nights</th>\n",
       "      <th>maximum_nights</th>\n",
       "      <th>instant_bookable</th>\n",
       "      <th>year</th>\n",
       "      <th>Continent</th>\n",
       "    </tr>\n",
       "  </thead>\n",
       "  <tbody>\n",
       "    <tr>\n",
       "      <th>0</th>\n",
       "      <td>281420</td>\n",
       "      <td>Beautiful Flat in le Village Montmartre, Paris</td>\n",
       "      <td>1466919</td>\n",
       "      <td>2011-12-03</td>\n",
       "      <td>f</td>\n",
       "      <td>1.0</td>\n",
       "      <td>t</td>\n",
       "      <td>f</td>\n",
       "      <td>Buttes-Montmartre</td>\n",
       "      <td>Paris</td>\n",
       "      <td>...</td>\n",
       "      <td>Entire apartment</td>\n",
       "      <td>Entire place</td>\n",
       "      <td>2</td>\n",
       "      <td>[\"Heating\", \"Kitchen\", \"Washer\", \"Wifi\", \"Long...</td>\n",
       "      <td>53</td>\n",
       "      <td>2</td>\n",
       "      <td>1125</td>\n",
       "      <td>f</td>\n",
       "      <td>2011</td>\n",
       "      <td>Europe</td>\n",
       "    </tr>\n",
       "    <tr>\n",
       "      <th>1</th>\n",
       "      <td>3705183</td>\n",
       "      <td>39 mÃÂ² Paris (Sacre CÃâur)</td>\n",
       "      <td>10328771</td>\n",
       "      <td>2013-11-29</td>\n",
       "      <td>f</td>\n",
       "      <td>1.0</td>\n",
       "      <td>t</td>\n",
       "      <td>t</td>\n",
       "      <td>Buttes-Montmartre</td>\n",
       "      <td>Paris</td>\n",
       "      <td>...</td>\n",
       "      <td>Entire apartment</td>\n",
       "      <td>Entire place</td>\n",
       "      <td>2</td>\n",
       "      <td>[\"Shampoo\", \"Heating\", \"Kitchen\", \"Essentials\"...</td>\n",
       "      <td>120</td>\n",
       "      <td>2</td>\n",
       "      <td>1125</td>\n",
       "      <td>f</td>\n",
       "      <td>2013</td>\n",
       "      <td>Europe</td>\n",
       "    </tr>\n",
       "    <tr>\n",
       "      <th>2</th>\n",
       "      <td>4082273</td>\n",
       "      <td>Lovely apartment with Terrace, 60m2</td>\n",
       "      <td>19252768</td>\n",
       "      <td>2014-07-31</td>\n",
       "      <td>f</td>\n",
       "      <td>1.0</td>\n",
       "      <td>t</td>\n",
       "      <td>f</td>\n",
       "      <td>Elysee</td>\n",
       "      <td>Paris</td>\n",
       "      <td>...</td>\n",
       "      <td>Entire apartment</td>\n",
       "      <td>Entire place</td>\n",
       "      <td>2</td>\n",
       "      <td>[\"Heating\", \"TV\", \"Kitchen\", \"Washer\", \"Wifi\",...</td>\n",
       "      <td>89</td>\n",
       "      <td>2</td>\n",
       "      <td>1125</td>\n",
       "      <td>f</td>\n",
       "      <td>2014</td>\n",
       "      <td>Europe</td>\n",
       "    </tr>\n",
       "    <tr>\n",
       "      <th>3</th>\n",
       "      <td>4797344</td>\n",
       "      <td>Cosy studio (close to Eiffel tower)</td>\n",
       "      <td>10668311</td>\n",
       "      <td>2013-12-17</td>\n",
       "      <td>f</td>\n",
       "      <td>1.0</td>\n",
       "      <td>t</td>\n",
       "      <td>t</td>\n",
       "      <td>Vaugirard</td>\n",
       "      <td>Paris</td>\n",
       "      <td>...</td>\n",
       "      <td>Entire apartment</td>\n",
       "      <td>Entire place</td>\n",
       "      <td>2</td>\n",
       "      <td>[\"Heating\", \"TV\", \"Kitchen\", \"Wifi\", \"Long ter...</td>\n",
       "      <td>58</td>\n",
       "      <td>2</td>\n",
       "      <td>1125</td>\n",
       "      <td>f</td>\n",
       "      <td>2013</td>\n",
       "      <td>Europe</td>\n",
       "    </tr>\n",
       "    <tr>\n",
       "      <th>4</th>\n",
       "      <td>4823489</td>\n",
       "      <td>Close to Eiffel Tower - Beautiful flat : 2 rooms</td>\n",
       "      <td>24837558</td>\n",
       "      <td>2014-12-14</td>\n",
       "      <td>f</td>\n",
       "      <td>1.0</td>\n",
       "      <td>t</td>\n",
       "      <td>f</td>\n",
       "      <td>Passy</td>\n",
       "      <td>Paris</td>\n",
       "      <td>...</td>\n",
       "      <td>Entire apartment</td>\n",
       "      <td>Entire place</td>\n",
       "      <td>2</td>\n",
       "      <td>[\"Heating\", \"TV\", \"Kitchen\", \"Essentials\", \"Ha...</td>\n",
       "      <td>60</td>\n",
       "      <td>2</td>\n",
       "      <td>1125</td>\n",
       "      <td>f</td>\n",
       "      <td>2014</td>\n",
       "      <td>Europe</td>\n",
       "    </tr>\n",
       "  </tbody>\n",
       "</table>\n",
       "<p>5 rows × 22 columns</p>\n",
       "</div>"
      ],
      "text/plain": [
       "   listing_id                                              name   host_id  \\\n",
       "0      281420    Beautiful Flat in le Village Montmartre, Paris   1466919   \n",
       "1     3705183                   39 mÃÂ² Paris (Sacre CÃ\n",
       "âur)  10328771   \n",
       "2     4082273               Lovely apartment with Terrace, 60m2  19252768   \n",
       "3     4797344               Cosy studio (close to Eiffel tower)  10668311   \n",
       "4     4823489  Close to Eiffel Tower - Beautiful flat : 2 rooms  24837558   \n",
       "\n",
       "  host_since host_is_superhost  host_total_listings_count  \\\n",
       "0 2011-12-03                 f                        1.0   \n",
       "1 2013-11-29                 f                        1.0   \n",
       "2 2014-07-31                 f                        1.0   \n",
       "3 2013-12-17                 f                        1.0   \n",
       "4 2014-12-14                 f                        1.0   \n",
       "\n",
       "  host_has_profile_pic host_identity_verified      neighbourhood   city  ...  \\\n",
       "0                    t                      f  Buttes-Montmartre  Paris  ...   \n",
       "1                    t                      t  Buttes-Montmartre  Paris  ...   \n",
       "2                    t                      f             Elysee  Paris  ...   \n",
       "3                    t                      t          Vaugirard  Paris  ...   \n",
       "4                    t                      f              Passy  Paris  ...   \n",
       "\n",
       "      property_type     room_type accommodates  \\\n",
       "0  Entire apartment  Entire place            2   \n",
       "1  Entire apartment  Entire place            2   \n",
       "2  Entire apartment  Entire place            2   \n",
       "3  Entire apartment  Entire place            2   \n",
       "4  Entire apartment  Entire place            2   \n",
       "\n",
       "                                           amenities  price minimum_nights  \\\n",
       "0  [\"Heating\", \"Kitchen\", \"Washer\", \"Wifi\", \"Long...     53              2   \n",
       "1  [\"Shampoo\", \"Heating\", \"Kitchen\", \"Essentials\"...    120              2   \n",
       "2  [\"Heating\", \"TV\", \"Kitchen\", \"Washer\", \"Wifi\",...     89              2   \n",
       "3  [\"Heating\", \"TV\", \"Kitchen\", \"Wifi\", \"Long ter...     58              2   \n",
       "4  [\"Heating\", \"TV\", \"Kitchen\", \"Essentials\", \"Ha...     60              2   \n",
       "\n",
       "   maximum_nights  instant_bookable  year Continent  \n",
       "0            1125                 f  2011    Europe  \n",
       "1            1125                 f  2013    Europe  \n",
       "2            1125                 f  2014    Europe  \n",
       "3            1125                 f  2013    Europe  \n",
       "4            1125                 f  2014    Europe  \n",
       "\n",
       "[5 rows x 22 columns]"
      ]
     },
     "execution_count": 194,
     "metadata": {},
     "output_type": "execute_result"
    }
   ],
   "source": [
    "new_df.head()"
   ]
  },
  {
   "cell_type": "markdown",
   "metadata": {},
   "source": [
    "### The tenure of each host in years"
   ]
  },
  {
   "cell_type": "code",
   "execution_count": 195,
   "metadata": {},
   "outputs": [
    {
     "data": {
      "text/html": [
       "<div>\n",
       "<style scoped>\n",
       "    .dataframe tbody tr th:only-of-type {\n",
       "        vertical-align: middle;\n",
       "    }\n",
       "\n",
       "    .dataframe tbody tr th {\n",
       "        vertical-align: top;\n",
       "    }\n",
       "\n",
       "    .dataframe thead th {\n",
       "        text-align: right;\n",
       "    }\n",
       "</style>\n",
       "<table border=\"1\" class=\"dataframe\">\n",
       "  <thead>\n",
       "    <tr style=\"text-align: right;\">\n",
       "      <th></th>\n",
       "      <th>listing_id</th>\n",
       "      <th>name</th>\n",
       "      <th>host_id</th>\n",
       "      <th>host_since</th>\n",
       "      <th>host_is_superhost</th>\n",
       "      <th>host_total_listings_count</th>\n",
       "      <th>host_has_profile_pic</th>\n",
       "      <th>host_identity_verified</th>\n",
       "      <th>neighbourhood</th>\n",
       "      <th>city</th>\n",
       "      <th>...</th>\n",
       "      <th>room_type</th>\n",
       "      <th>accommodates</th>\n",
       "      <th>amenities</th>\n",
       "      <th>price</th>\n",
       "      <th>minimum_nights</th>\n",
       "      <th>maximum_nights</th>\n",
       "      <th>instant_bookable</th>\n",
       "      <th>year</th>\n",
       "      <th>Continent</th>\n",
       "      <th>host_tenure</th>\n",
       "    </tr>\n",
       "  </thead>\n",
       "  <tbody>\n",
       "    <tr>\n",
       "      <th>0</th>\n",
       "      <td>281420</td>\n",
       "      <td>Beautiful Flat in le Village Montmartre, Paris</td>\n",
       "      <td>1466919</td>\n",
       "      <td>2011-12-03</td>\n",
       "      <td>f</td>\n",
       "      <td>1.0</td>\n",
       "      <td>t</td>\n",
       "      <td>f</td>\n",
       "      <td>Buttes-Montmartre</td>\n",
       "      <td>Paris</td>\n",
       "      <td>...</td>\n",
       "      <td>Entire place</td>\n",
       "      <td>2</td>\n",
       "      <td>[\"Heating\", \"Kitchen\", \"Washer\", \"Wifi\", \"Long...</td>\n",
       "      <td>53</td>\n",
       "      <td>2</td>\n",
       "      <td>1125</td>\n",
       "      <td>f</td>\n",
       "      <td>2011</td>\n",
       "      <td>Europe</td>\n",
       "      <td>9</td>\n",
       "    </tr>\n",
       "    <tr>\n",
       "      <th>1</th>\n",
       "      <td>3705183</td>\n",
       "      <td>39 mÃÂ² Paris (Sacre CÃâur)</td>\n",
       "      <td>10328771</td>\n",
       "      <td>2013-11-29</td>\n",
       "      <td>f</td>\n",
       "      <td>1.0</td>\n",
       "      <td>t</td>\n",
       "      <td>t</td>\n",
       "      <td>Buttes-Montmartre</td>\n",
       "      <td>Paris</td>\n",
       "      <td>...</td>\n",
       "      <td>Entire place</td>\n",
       "      <td>2</td>\n",
       "      <td>[\"Shampoo\", \"Heating\", \"Kitchen\", \"Essentials\"...</td>\n",
       "      <td>120</td>\n",
       "      <td>2</td>\n",
       "      <td>1125</td>\n",
       "      <td>f</td>\n",
       "      <td>2013</td>\n",
       "      <td>Europe</td>\n",
       "      <td>7</td>\n",
       "    </tr>\n",
       "    <tr>\n",
       "      <th>2</th>\n",
       "      <td>4082273</td>\n",
       "      <td>Lovely apartment with Terrace, 60m2</td>\n",
       "      <td>19252768</td>\n",
       "      <td>2014-07-31</td>\n",
       "      <td>f</td>\n",
       "      <td>1.0</td>\n",
       "      <td>t</td>\n",
       "      <td>f</td>\n",
       "      <td>Elysee</td>\n",
       "      <td>Paris</td>\n",
       "      <td>...</td>\n",
       "      <td>Entire place</td>\n",
       "      <td>2</td>\n",
       "      <td>[\"Heating\", \"TV\", \"Kitchen\", \"Washer\", \"Wifi\",...</td>\n",
       "      <td>89</td>\n",
       "      <td>2</td>\n",
       "      <td>1125</td>\n",
       "      <td>f</td>\n",
       "      <td>2014</td>\n",
       "      <td>Europe</td>\n",
       "      <td>6</td>\n",
       "    </tr>\n",
       "    <tr>\n",
       "      <th>3</th>\n",
       "      <td>4797344</td>\n",
       "      <td>Cosy studio (close to Eiffel tower)</td>\n",
       "      <td>10668311</td>\n",
       "      <td>2013-12-17</td>\n",
       "      <td>f</td>\n",
       "      <td>1.0</td>\n",
       "      <td>t</td>\n",
       "      <td>t</td>\n",
       "      <td>Vaugirard</td>\n",
       "      <td>Paris</td>\n",
       "      <td>...</td>\n",
       "      <td>Entire place</td>\n",
       "      <td>2</td>\n",
       "      <td>[\"Heating\", \"TV\", \"Kitchen\", \"Wifi\", \"Long ter...</td>\n",
       "      <td>58</td>\n",
       "      <td>2</td>\n",
       "      <td>1125</td>\n",
       "      <td>f</td>\n",
       "      <td>2013</td>\n",
       "      <td>Europe</td>\n",
       "      <td>7</td>\n",
       "    </tr>\n",
       "    <tr>\n",
       "      <th>4</th>\n",
       "      <td>4823489</td>\n",
       "      <td>Close to Eiffel Tower - Beautiful flat : 2 rooms</td>\n",
       "      <td>24837558</td>\n",
       "      <td>2014-12-14</td>\n",
       "      <td>f</td>\n",
       "      <td>1.0</td>\n",
       "      <td>t</td>\n",
       "      <td>f</td>\n",
       "      <td>Passy</td>\n",
       "      <td>Paris</td>\n",
       "      <td>...</td>\n",
       "      <td>Entire place</td>\n",
       "      <td>2</td>\n",
       "      <td>[\"Heating\", \"TV\", \"Kitchen\", \"Essentials\", \"Ha...</td>\n",
       "      <td>60</td>\n",
       "      <td>2</td>\n",
       "      <td>1125</td>\n",
       "      <td>f</td>\n",
       "      <td>2014</td>\n",
       "      <td>Europe</td>\n",
       "      <td>6</td>\n",
       "    </tr>\n",
       "  </tbody>\n",
       "</table>\n",
       "<p>5 rows × 23 columns</p>\n",
       "</div>"
      ],
      "text/plain": [
       "   listing_id                                              name   host_id  \\\n",
       "0      281420    Beautiful Flat in le Village Montmartre, Paris   1466919   \n",
       "1     3705183                   39 mÃÂ² Paris (Sacre CÃ\n",
       "âur)  10328771   \n",
       "2     4082273               Lovely apartment with Terrace, 60m2  19252768   \n",
       "3     4797344               Cosy studio (close to Eiffel tower)  10668311   \n",
       "4     4823489  Close to Eiffel Tower - Beautiful flat : 2 rooms  24837558   \n",
       "\n",
       "  host_since host_is_superhost  host_total_listings_count  \\\n",
       "0 2011-12-03                 f                        1.0   \n",
       "1 2013-11-29                 f                        1.0   \n",
       "2 2014-07-31                 f                        1.0   \n",
       "3 2013-12-17                 f                        1.0   \n",
       "4 2014-12-14                 f                        1.0   \n",
       "\n",
       "  host_has_profile_pic host_identity_verified      neighbourhood   city  ...  \\\n",
       "0                    t                      f  Buttes-Montmartre  Paris  ...   \n",
       "1                    t                      t  Buttes-Montmartre  Paris  ...   \n",
       "2                    t                      f             Elysee  Paris  ...   \n",
       "3                    t                      t          Vaugirard  Paris  ...   \n",
       "4                    t                      f              Passy  Paris  ...   \n",
       "\n",
       "      room_type  accommodates  \\\n",
       "0  Entire place             2   \n",
       "1  Entire place             2   \n",
       "2  Entire place             2   \n",
       "3  Entire place             2   \n",
       "4  Entire place             2   \n",
       "\n",
       "                                           amenities price  minimum_nights  \\\n",
       "0  [\"Heating\", \"Kitchen\", \"Washer\", \"Wifi\", \"Long...    53               2   \n",
       "1  [\"Shampoo\", \"Heating\", \"Kitchen\", \"Essentials\"...   120               2   \n",
       "2  [\"Heating\", \"TV\", \"Kitchen\", \"Washer\", \"Wifi\",...    89               2   \n",
       "3  [\"Heating\", \"TV\", \"Kitchen\", \"Wifi\", \"Long ter...    58               2   \n",
       "4  [\"Heating\", \"TV\", \"Kitchen\", \"Essentials\", \"Ha...    60               2   \n",
       "\n",
       "  maximum_nights  instant_bookable  year  Continent host_tenure  \n",
       "0           1125                 f  2011     Europe           9  \n",
       "1           1125                 f  2013     Europe           7  \n",
       "2           1125                 f  2014     Europe           6  \n",
       "3           1125                 f  2013     Europe           7  \n",
       "4           1125                 f  2014     Europe           6  \n",
       "\n",
       "[5 rows x 23 columns]"
      ]
     },
     "execution_count": 195,
     "metadata": {},
     "output_type": "execute_result"
    }
   ],
   "source": [
    "sorted_dates = sorted(new_df['host_since'], reverse=True)\n",
    "new_df['host_tenure'] = (sorted_dates[0] - pd.to_datetime(new_df['host_since'])) // pd.Timedelta(days=365)\n",
    "new_df.head()"
   ]
  },
  {
   "cell_type": "markdown",
   "metadata": {},
   "source": [
    "### Correlation between price & accommodates"
   ]
  },
  {
   "cell_type": "code",
   "execution_count": 196,
   "metadata": {},
   "outputs": [
    {
     "data": {
      "text/plain": [
       "0.14643132209784024"
      ]
     },
     "execution_count": 196,
     "metadata": {},
     "output_type": "execute_result"
    }
   ],
   "source": [
    "corr = new_df['price'].corr(new_df['accommodates'])\n",
    "corr"
   ]
  },
  {
   "cell_type": "code",
   "execution_count": 197,
   "metadata": {},
   "outputs": [
    {
     "data": {
      "image/png": "[encoded data removed]",
      "text/plain": [
       "<Figure size 640x480 with 1 Axes>"
      ]
     },
     "metadata": {},
     "output_type": "display_data"
    }
   ],
   "source": [
    "plt.scatter(new_df['price'], new_df['accommodates'])\n",
    "plt.xlabel('Price')\n",
    "plt.ylabel('Accommodates')\n",
    "plt.title('Relationship between Price and Accommodates')\n",
    "plt.show()"
   ]
  },
  {
   "cell_type": "markdown",
   "metadata": {},
   "source": [
    "The correlation coefficient between the price and the number of accommodates is 0.14643132209784024, this indicates a weak positive relationship between them. In other words, there is a slight positive correlation between an increase in the number of accommodates and a rise in the accommodation price, but this relationship is not strong."
   ]
  },
  {
   "cell_type": "markdown",
   "metadata": {},
   "source": [
    "# 4. Conclusion"
   ]
  },
  {
   "cell_type": "markdown",
   "metadata": {},
   "source": [
    "- The continent with the highest listing rates is Europe.\n",
    "  \n",
    "- The continent with the lowest listing rates is Africa.\n",
    "  \n",
    "- There have been some variations in listing numbers in recent years in this dataset, likely attributed to global events such as COVID-19.\n",
    "  \n",
    "- These data can be utilized to identify regions with low listings and conduct marketing campaigns targeting them.\n",
    "  \n",
    "- Additionally, one can observe the most prevalent property types in each city and their average prices to cater the individual budgets."
   ]
  }
 ],
 "metadata": {
  "kernelspec": {
   "display_name": "Python 3",
   "language": "python",
   "name": "python3"
  },
  "language_info": {
   "codemirror_mode": {
    "name": "ipython",
    "version": 3
   },
   "file_extension": ".py",
   "mimetype": "text/x-python",
   "name": "python",
   "nbconvert_exporter": "python",
   "pygments_lexer": "ipython3",
   "version": "3.9.13"
  }
 },
 "nbformat": 4,
 "nbformat_minor": 2
}
